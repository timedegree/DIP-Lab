{
 "cells": [
  {
   "cell_type": "code",
   "execution_count": null,
   "id": "8e96f3a3",
   "metadata": {},
   "outputs": [],
   "source": [
    "from skimage import io, feature, color, exposure\n",
    "from torch import nn\n",
    "import pandas as pd\n",
    "import numpy as np\n",
    "import torch\n",
    "import cv2\n",
    "\n",
    "from sklearn.cluster import MiniBatchKMeans\n",
    "from sklearn import svm"
   ]
  },
  {
   "cell_type": "code",
   "execution_count": null,
   "id": "630f8f7b",
   "metadata": {},
   "outputs": [],
   "source": [
    "import matplotlib.pyplot as plt\n",
    "import csv\n",
    "import os\n",
    "import tqdm"
   ]
  },
  {
   "cell_type": "code",
   "execution_count": null,
   "id": "aa32d136",
   "metadata": {},
   "outputs": [],
   "source": [
    "data_split_dic = {i:{\"train_range\":(2*i*50,(2*i+1)*50-1),\"test_range\":((2*i+1)*50,(2*i+2)*50-1)} for i in range(20)}\n",
    "\n",
    "def get_images(type=\"train\"):\n",
    "    images_dic = {\"id\":[], \"data\": [], \"labels\": []}\n",
    "    for i in range(20):\n",
    "        if type == \"train\":\n",
    "            start, end = data_split_dic[i][\"train_range\"]\n",
    "        else:\n",
    "            start, end = data_split_dic[i][\"test_range\"]\n",
    "        for j in range(start, end + 1):\n",
    "            image = io.imread(f\"data/origin/{j}.jpg\")\n",
    "            images_dic[\"id\"].append(j)\n",
    "            images_dic[\"data\"].append(image)\n",
    "            images_dic[\"labels\"].append(i)\n",
    "    return images_dic\n",
    "\n",
    "train_data = get_images(\"train\")\n",
    "test_data = get_images(\"test\")"
   ]
  },
  {
   "cell_type": "code",
   "execution_count": null,
   "id": "8b0dda78",
   "metadata": {},
   "outputs": [],
   "source": [
    "def extract_graycomatrix_features(image):\n",
    "    gray_image = color.rgb2gray(image)\n",
    "    gray_image = (gray_image * 255).astype('uint8')\n",
    "    distances = [1,3,5]\n",
    "    angles = [0, np.pi/4, np.pi/2, 3*np.pi/4]\n",
    "    \n",
    "    glcm = feature.graycomatrix(gray_image, distances, angles, symmetric=True, normed=True)\n",
    "\n",
    "    contrast = feature.graycoprops(glcm, 'contrast')\n",
    "    dissimilarity = feature.graycoprops(glcm, 'dissimilarity')\n",
    "    homogeneity = feature.graycoprops(glcm, 'homogeneity')\n",
    "    energy = feature.graycoprops(glcm, 'energy')\n",
    "    correlation = feature.graycoprops(glcm, 'correlation')\n",
    "    asm = feature.graycoprops(glcm, 'ASM')\n",
    "\n",
    "    features = torch.tensor([\n",
    "        np.mean(contrast),\n",
    "        np.mean(dissimilarity),\n",
    "        np.mean(homogeneity),\n",
    "        np.mean(energy),\n",
    "        np.mean(correlation),\n",
    "        np.mean(asm)\n",
    "    ], dtype=torch.float32)\n",
    "    \n",
    "    return features"
   ]
  },
  {
   "cell_type": "code",
   "execution_count": null,
   "id": "3d3bce56",
   "metadata": {},
   "outputs": [],
   "source": [
    "def extract_sift_descriptors(image):\n",
    "    gray_image = color.rgb2gray(image)\n",
    "    gray_image_uint8 = (gray_image * 255).astype('uint8')\n",
    "    sift = cv2.SIFT_create()\n",
    "    keypoints, descriptors = sift.detectAndCompute(gray_image_uint8, None)\n",
    "    return descriptors\n",
    "\n",
    "def build_sift_vocabulary(data, vocabulary_size=200):\n",
    "    descriptors_list = []\n",
    "\n",
    "    for image in tqdm.tqdm(data[\"data\"], desc=\"Extracting SIFT descriptors\"):\n",
    "        descriptors = extract_sift_descriptors(image)\n",
    "        if descriptors is not None and len(descriptors) > 0:\n",
    "            descriptors_list.append(descriptors)\n",
    "\n",
    "    descriptors_np = np.vstack(descriptors_list)\n",
    "    kmeans = MiniBatchKMeans(n_clusters=vocabulary_size, random_state=42, batch_size=vocabulary_size*5, n_init='auto')\n",
    "    kmeans.fit(descriptors_np)\n",
    "    return kmeans\n",
    "\n",
    "def extract_sift_bow_features(image, kmeans_model, vocabulary_size=200):\n",
    "    descriptors = extract_sift_descriptors(image)\n",
    "    if descriptors is None or len(descriptors) == 0:\n",
    "        return torch.zeros(vocabulary_size, dtype=torch.float32)\n",
    "    \n",
    "    labels = kmeans_model.predict(descriptors)\n",
    "    hist = np.bincount(labels, minlength=vocabulary_size)\n",
    "    \n",
    "    if np.sum(hist) > 0:\n",
    "        hist = hist.astype(np.float32) / np.sum(hist)\n",
    "    else:\n",
    "        hist = hist.astype(np.float32)\n",
    "    \n",
    "    return torch.tensor(hist, dtype=torch.float32)"
   ]
  },
  {
   "cell_type": "code",
   "execution_count": null,
   "id": "8d7061c2",
   "metadata": {},
   "outputs": [],
   "source": [
    "def extract_color_histogram_features(image, bins_per_channel=32):\n",
    "    histogram_r = exposure.histogram(image[:, :, 0], nbins=bins_per_channel, source_range='dtype')\n",
    "    histogram_g = exposure.histogram(image[:, :, 1], nbins=bins_per_channel, source_range='dtype')\n",
    "    histogram_b = exposure.histogram(image[:, :, 2], nbins=bins_per_channel, source_range='dtype')\n",
    "\n",
    "    histogram = np.concatenate((histogram_r[0], histogram_g[0], histogram_b[0]))\n",
    "\n",
    "    return torch.tensor(histogram, dtype=torch.float32)"
   ]
  },
  {
   "cell_type": "code",
   "execution_count": null,
   "id": "38314b5e",
   "metadata": {},
   "outputs": [],
   "source": [
    "def get_features_for_dataset(data, kmeans_model, vocabulary_size=200):\n",
    "    dataset = {\n",
    "        \"id\": [],\n",
    "        \"image\":[],\n",
    "        \"bow\": [],\n",
    "        \"graycomatrix\":[],\n",
    "        \"color_histogram\": [],\n",
    "        \"labels\": [],\n",
    "        }\n",
    "    \n",
    "    for id, image, label in tqdm.tqdm(zip(data[\"id\"], data[\"data\"], data[\"labels\"]), \n",
    "                                  desc=\"Extracting features\",\n",
    "                                  total=len(data[\"data\"])):\n",
    "        bow_features = extract_sift_bow_features(image, kmeans_model, vocabulary_size)\n",
    "        graycomatrix_features = extract_graycomatrix_features(image)\n",
    "        color_histogram_features = extract_color_histogram_features(image)\n",
    "        dataset[\"id\"].append(id)\n",
    "        dataset[\"image\"].append(image)\n",
    "        dataset[\"bow\"].append(bow_features)\n",
    "        dataset[\"graycomatrix\"].append(graycomatrix_features)\n",
    "        dataset[\"color_histogram\"].append(color_histogram_features)\n",
    "        dataset[\"labels\"].append(label)\n",
    "    \n",
    "    return dataset"
   ]
  },
  {
   "cell_type": "code",
   "execution_count": null,
   "id": "3ef31ed4",
   "metadata": {},
   "outputs": [],
   "source": [
    "kmeans_model = build_sift_vocabulary(train_data, vocabulary_size=200)\n",
    "\n",
    "train_dataset = get_features_for_dataset(train_data, kmeans_model, vocabulary_size=200)\n",
    "test_dataset = get_features_for_dataset(test_data, kmeans_model, vocabulary_size=200)"
   ]
  }
 ],
 "metadata": {
  "kernelspec": {
   "display_name": ".venv",
   "language": "python",
   "name": "python3"
  },
  "language_info": {
   "codemirror_mode": {
    "name": "ipython",
    "version": 3
   },
   "file_extension": ".py",
   "mimetype": "text/x-python",
   "name": "python",
   "nbconvert_exporter": "python",
   "pygments_lexer": "ipython3",
   "version": "3.11.11"
  }
 },
 "nbformat": 4,
 "nbformat_minor": 5
}
